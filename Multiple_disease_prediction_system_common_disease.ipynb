{
  "nbformat": 4,
  "nbformat_minor": 0,
  "metadata": {
    "colab": {
      "provenance": [],
      "gpuType": "T4"
    },
    "kernelspec": {
      "name": "python3",
      "display_name": "Python 3"
    },
    "language_info": {
      "name": "python"
    },
    "accelerator": "GPU"
  },
  "cells": [
    {
      "cell_type": "code",
      "execution_count": null,
      "metadata": {
        "colab": {
          "base_uri": "https://localhost:8080/"
        },
        "id": "YKn98b2KHFpv",
        "outputId": "5b0d0ede-9f6f-4270-8c87-c8c537ffdca4"
      },
      "outputs": [
        {
          "output_type": "stream",
          "name": "stdout",
          "text": [
            "✅ Accuracy: 1.0\n",
            "\n",
            "📊 Classification Report:\n",
            "                                          precision    recall  f1-score   support\n",
            "\n",
            "(vertigo) Paroymsal  Positional Vertigo       1.00      1.00      1.00         1\n",
            "                                   AIDS       1.00      1.00      1.00         1\n",
            "                                   Acne       1.00      1.00      1.00         1\n",
            "                    Alcoholic hepatitis       1.00      1.00      1.00         1\n",
            "                                Allergy       1.00      1.00      1.00         1\n",
            "                              Arthritis       1.00      1.00      1.00         1\n",
            "                       Bronchial Asthma       1.00      1.00      1.00         1\n",
            "                   Cervical spondylosis       1.00      1.00      1.00         1\n",
            "                            Chicken pox       1.00      1.00      1.00         1\n",
            "                    Chronic cholestasis       1.00      1.00      1.00         1\n",
            "                            Common Cold       1.00      1.00      1.00         1\n",
            "                                 Dengue       1.00      1.00      1.00         1\n",
            "                              Diabetes        1.00      1.00      1.00         1\n",
            "           Dimorphic hemmorhoids(piles)       1.00      1.00      1.00         1\n",
            "                          Drug Reaction       1.00      1.00      1.00         1\n",
            "                       Fungal infection       1.00      1.00      1.00         2\n",
            "                                   GERD       1.00      1.00      1.00         1\n",
            "                        Gastroenteritis       1.00      1.00      1.00         1\n",
            "                           Heart attack       1.00      1.00      1.00         1\n",
            "                            Hepatitis B       1.00      1.00      1.00         1\n",
            "                            Hepatitis C       1.00      1.00      1.00         1\n",
            "                            Hepatitis D       1.00      1.00      1.00         1\n",
            "                            Hepatitis E       1.00      1.00      1.00         1\n",
            "                          Hypertension        1.00      1.00      1.00         1\n",
            "                        Hyperthyroidism       1.00      1.00      1.00         1\n",
            "                           Hypoglycemia       1.00      1.00      1.00         1\n",
            "                         Hypothyroidism       1.00      1.00      1.00         1\n",
            "                               Impetigo       1.00      1.00      1.00         1\n",
            "                               Jaundice       1.00      1.00      1.00         1\n",
            "                                Malaria       1.00      1.00      1.00         1\n",
            "                               Migraine       1.00      1.00      1.00         1\n",
            "                        Osteoarthristis       1.00      1.00      1.00         1\n",
            "           Paralysis (brain hemorrhage)       1.00      1.00      1.00         1\n",
            "                    Peptic ulcer diseae       1.00      1.00      1.00         1\n",
            "                              Pneumonia       1.00      1.00      1.00         1\n",
            "                              Psoriasis       1.00      1.00      1.00         1\n",
            "                           Tuberculosis       1.00      1.00      1.00         1\n",
            "                                Typhoid       1.00      1.00      1.00         1\n",
            "                Urinary tract infection       1.00      1.00      1.00         1\n",
            "                         Varicose veins       1.00      1.00      1.00         1\n",
            "                            hepatitis A       1.00      1.00      1.00         1\n",
            "\n",
            "                               accuracy                           1.00        42\n",
            "                              macro avg       1.00      1.00      1.00        42\n",
            "                           weighted avg       1.00      1.00      1.00        42\n",
            "\n",
            "🧾 Confusion Matrix:\n",
            " [[1 0 0 ... 0 0 0]\n",
            " [0 1 0 ... 0 0 0]\n",
            " [0 0 1 ... 0 0 0]\n",
            " ...\n",
            " [0 0 0 ... 1 0 0]\n",
            " [0 0 0 ... 0 1 0]\n",
            " [0 0 0 ... 0 0 1]]\n"
          ]
        }
      ],
      "source": [
        "import pandas as pd\n",
        "from sklearn.svm import SVC\n",
        "from sklearn.preprocessing import LabelEncoder\n",
        "from sklearn.metrics import accuracy_score, classification_report, confusion_matrix\n",
        "from sklearn.impute import SimpleImputer\n",
        "import pickle\n",
        "\n",
        "# Load the training and testing data\n",
        "train_df = pd.read_csv('Training.csv')\n",
        "test_df = pd.read_csv('Testing.csv')\n",
        "\n",
        "# Drop any columns that are unnamed or irrelevant (such as index columns)\n",
        "train_df = train_df.loc[:, ~train_df.columns.str.contains('^Unnamed')]\n",
        "test_df = test_df.loc[:, ~test_df.columns.str.contains('^Unnamed')]\n",
        "\n",
        "# Separate features and labels\n",
        "X_train = train_df.drop('prognosis', axis=1)\n",
        "y_train = train_df['prognosis']\n",
        "\n",
        "X_test = test_df.drop('prognosis', axis=1)\n",
        "y_test = test_df['prognosis']\n",
        "\n",
        "# Handle missing values by imputing with mean\n",
        "imputer = SimpleImputer(strategy='mean')\n",
        "X_train_imputed = imputer.fit_transform(X_train)\n",
        "X_test_imputed = imputer.transform(X_test)\n",
        "\n",
        "# Encode target labels\n",
        "le = LabelEncoder()\n",
        "y_train_encoded = le.fit_transform(y_train)\n",
        "y_test_encoded = le.transform(y_test)\n",
        "\n",
        "# Train SVM model\n",
        "svm_model = SVC(kernel='linear', probability=True)\n",
        "svm_model.fit(X_train_imputed, y_train_encoded)\n",
        "\n",
        "# Predict on test set\n",
        "y_pred = svm_model.predict(X_test_imputed)\n",
        "\n",
        "# Evaluate the model\n",
        "print(\"✅ Accuracy:\", accuracy_score(y_test_encoded, y_pred))\n",
        "print(\"\\n📊 Classification Report:\\n\", classification_report(y_test_encoded, y_pred, target_names=le.classes_))\n",
        "print(\"🧾 Confusion Matrix:\\n\", confusion_matrix(y_test_encoded, y_pred))\n",
        "\n",
        "# Save model using pickle\n",
        "with open('svm_disease_model.sav', 'wb') as model_file:\n",
        "    pickle.dump(svm_model, model_file)\n",
        "\n",
        "with open('svm_label_encoder.sav', 'wb') as encoder_file:\n",
        "    pickle.dump(le, encoder_file)\n"
      ]
    },
    {
      "cell_type": "code",
      "source": [
        "X_train.shape"
      ],
      "metadata": {
        "colab": {
          "base_uri": "https://localhost:8080/"
        },
        "id": "ajKJeDg3OSi5",
        "outputId": "2cef3a6d-5cf6-4e84-eea1-69f122894790"
      },
      "execution_count": null,
      "outputs": [
        {
          "output_type": "execute_result",
          "data": {
            "text/plain": [
              "(4920, 132)"
            ]
          },
          "metadata": {},
          "execution_count": 10
        }
      ]
    },
    {
      "cell_type": "code",
      "source": [
        "import pandas as pd\n",
        "import numpy as np\n",
        "import pickle\n",
        "\n",
        "# Load the saved model and label encoder\n",
        "with open('svm_disease_model.sav', 'rb') as model_file:\n",
        "    svm_model = pickle.load(model_file)\n",
        "\n",
        "with open('svm_label_encoder.sav', 'rb') as encoder_file:\n",
        "    le = pickle.load(encoder_file)\n",
        "\n",
        "# Load the original training dataset to get the feature columns\n",
        "df = pd.read_csv('Training.csv')\n",
        "df = df.loc[:, ~df.columns.str.contains('^Unnamed')]\n",
        "feature_columns = df.columns.drop('prognosis')\n",
        "\n",
        "# Create input data with all zeros\n",
        "input_data = pd.DataFrame(np.zeros((1, len(feature_columns))), columns=feature_columns)\n",
        "\n",
        "# List of user symptoms\n",
        "user_symptoms = [\n",
        "    'itching', 'skin_rash', 'shivering',\n",
        "    'chills', 'joint_pain', 'stomach_pain', 'acidity'\n",
        "]\n",
        "\n",
        "# Set those symptoms to 1\n",
        "for symptom in user_symptoms:\n",
        "    if symptom in input_data.columns:\n",
        "        input_data.at[0, symptom] = 1\n",
        "\n",
        "# Predict disease\n",
        "pred_encoded = svm_model.predict(input_data)[0]\n",
        "predicted_disease = le.inverse_transform([pred_encoded])[0]\n",
        "\n",
        "print(\"🩺 Predicted Disease:\", predicted_disease)\n",
        "\n",
        "\n",
        "\n"
      ],
      "metadata": {
        "colab": {
          "base_uri": "https://localhost:8080/"
        },
        "id": "_3FtYPlQNhI4",
        "outputId": "cfba0e00-ffea-44ec-e73c-b99d3f21dbf6"
      },
      "execution_count": null,
      "outputs": [
        {
          "output_type": "stream",
          "name": "stdout",
          "text": [
            "🩺 Predicted Disease: Drug Reaction\n"
          ]
        },
        {
          "output_type": "stream",
          "name": "stderr",
          "text": [
            "/usr/local/lib/python3.11/dist-packages/sklearn/utils/validation.py:2732: UserWarning: X has feature names, but SVC was fitted without feature names\n",
            "  warnings.warn(\n"
          ]
        }
      ]
    },
    {
      "cell_type": "code",
      "source": [
        "# Example symptoms\n",
        "input_symptoms = ['itching', 'skin_rash', 'shivering', 'chills', 'joint_pain', 'stomach_pain', 'acidity']\n",
        "\n",
        "# Clean input\n",
        "input_symptoms = [s.strip().lower().replace(' ', '_') for s in input_symptoms]\n",
        "\n",
        "# Prepare input vector\n",
        "input_vector = [1 if col in input_symptoms else 0 for col in X.columns]\n",
        "\n",
        "# Predict probability\n",
        "probs = svm_model.predict_proba([input_vector])[0]\n",
        "\n",
        "# Get top N predictions\n",
        "top_n = 3\n",
        "top_indices = np.argsort(probs)[-top_n:][::-1]\n",
        "top_diseases = [(le.inverse_transform([i])[0], probs[i]) for i in top_indices if probs[i] > 0]\n",
        "\n",
        "# Output result\n",
        "print(\"\\n Top possible disease(s) based on symptoms:\")\n",
        "for disease, prob in top_diseases:\n",
        "    print(f\" - {disease} (confidence: {prob:.2f})\")\n"
      ],
      "metadata": {
        "colab": {
          "base_uri": "https://localhost:8080/"
        },
        "id": "Hx2ryrZSd_ax",
        "outputId": "f7905982-a49b-44e8-9619-44a5ada3b80b"
      },
      "execution_count": null,
      "outputs": [
        {
          "output_type": "stream",
          "name": "stdout",
          "text": [
            "\n",
            "🧠 Top possible disease(s) based on symptoms:\n",
            " - Drug Reaction (confidence: 0.32)\n",
            " - Allergy (confidence: 0.16)\n",
            " - Fungal infection (confidence: 0.14)\n"
          ]
        }
      ]
    }
  ]
}